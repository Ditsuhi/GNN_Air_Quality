{
  "nbformat": 4,
  "nbformat_minor": 0,
  "metadata": {
    "colab": {
      "provenance": [],
      "collapsed_sections": [],
      "include_colab_link": true
    },
    "kernelspec": {
      "name": "python3",
      "display_name": "Python 3"
    },
    "language_info": {
      "name": "python"
    }
  },
  "cells": [
    {
      "cell_type": "markdown",
      "metadata": {
        "id": "view-in-github",
        "colab_type": "text"
      },
      "source": [
        "<a href=\"https://colab.research.google.com/github/Ditsuhi/GNN_Air_Quality/blob/main/Extract_Stations_Data_2019_2022.ipynb\" target=\"_parent\"><img src=\"https://colab.research.google.com/assets/colab-badge.svg\" alt=\"Open In Colab\"/></a>"
      ]
    },
    {
      "cell_type": "code",
      "execution_count": null,
      "metadata": {
        "id": "CidJuM1VjWjH"
      },
      "outputs": [],
      "source": [
        "#import required libraries\n",
        "import pandas as pd\n",
        "import numpy as np\n",
        "\n",
        "\n",
        "data_2019 = pd.read_csv('/content/Mad_2019_winddir.csv')\n",
        "data_2022 = pd.read_csv('/content/Mad_2022_winddir.csv')\n"
      ]
    },
    {
      "cell_type": "code",
      "source": [
        "data_2019.columns\n",
        "# Note, that there are 19 columns, but only 18 columns will be used in the analysis. \n",
        "# The current version includes wind direction in degrees (windDir) and also wind direction after converting to categorical data and passing through One Hot Encoder. \n",
        "# The wind direction in degrees will be excluded for further analysis."
      ],
      "metadata": {
        "colab": {
          "base_uri": "https://localhost:8080/"
        },
        "id": "yUrxAEIBt5nI",
        "outputId": "f3153bb4-1f64-4409-dd1c-dfd49001bd58"
      },
      "execution_count": null,
      "outputs": [
        {
          "output_type": "execute_result",
          "data": {
            "text/plain": [
              "Index(['NO2', 'windSpeed', 'windDir', 'Temp', 'Humidity', 'Pressure',\n",
              "       'SolarRad', 'intensidad', 'ocupacion', 'carga', 'vmed',\n",
              "       'windDir_Categ_east', 'windDir_Categ_north', 'windDir_Categ_northeast',\n",
              "       'windDir_Categ_northwest', 'windDir_Categ_south',\n",
              "       'windDir_Categ_southeast', 'windDir_Categ_southwest',\n",
              "       'windDir_Categ_west'],\n",
              "      dtype='object')"
            ]
          },
          "metadata": {},
          "execution_count": 2
        }
      ]
    },
    {
      "cell_type": "code",
      "source": [
        "# The indices which cells includes air quality monitoring stations.\n",
        "\n",
        "ind = np.array([ 5,  47,  72,  78,  88,  92, 113, 126, 138, 141, 142, 143, 177,\n",
        "            181, 192, 195, 217, 220, 228, 243, 254, 281, 296, 323])"
      ],
      "metadata": {
        "id": "WndJUeX7lMyH"
      },
      "execution_count": null,
      "outputs": []
    },
    {
      "cell_type": "code",
      "source": [
        "# convert dataframe to numpy array\n",
        "\n",
        "fin_data_2019=data_2019.to_numpy().reshape(-1, 340, 19)\n",
        "fin_data_2022=data_2022.to_numpy().reshape(-1, 340, 19)\n"
      ],
      "metadata": {
        "id": "l-n2DH-sjyhh"
      },
      "execution_count": null,
      "outputs": []
    },
    {
      "cell_type": "code",
      "source": [
        "# extract the data referring only to the air quality monitoring stations´ cells. \n",
        "\n",
        "\n",
        "combined_array_2019 = np.array([])\n",
        "combined_array_2022 = np.array([])\n",
        "\n",
        "for j in range(len(fin_data_2019)):\n",
        "  for i in ind:  \n",
        "    to_append = fin_data_2019 [j,i,:]\n",
        "    combined_array_2019 = np.append([combined_array_2019], [to_append])\n",
        "\n",
        "\n",
        "for j in range(len(fin_data_2022)):\n",
        "  for i in ind:  \n",
        "    to_append = fin_data_2022 [j,i,:]\n",
        "    combined_array_2022 = np.append([combined_array_2022], [to_append])\n",
        "\n"
      ],
      "metadata": {
        "id": "JSQte2aimvZA"
      },
      "execution_count": null,
      "outputs": []
    },
    {
      "cell_type": "code",
      "source": [
        "data_station_2019 = pd.DataFrame(data = combined_array_2019.reshape(-1, 19), \n",
        "                        columns = ['NO2', 'windSpeed', 'windDir', 'Temp', 'Humidity', 'Pressure',\n",
        "       'SolarRad', 'intensidad', 'ocupacion', 'carga', 'vmed',\n",
        "       'windDir_Categ_east', 'windDir_Categ_north', 'windDir_Categ_northeast',\n",
        "       'windDir_Categ_northwest', 'windDir_Categ_south',\n",
        "       'windDir_Categ_southeast', 'windDir_Categ_southwest',\n",
        "       'windDir_Categ_west'])\n",
        "\n",
        "\n",
        "data_station_2022 = pd.DataFrame(data = combined_array_2022.reshape(-1, 19), \n",
        "                        columns = ['NO2', 'windSpeed', 'windDir', 'Temp', 'Humidity', 'Pressure',\n",
        "       'SolarRad', 'intensidad', 'ocupacion', 'carga', 'vmed',\n",
        "       'windDir_Categ_east', 'windDir_Categ_north', 'windDir_Categ_northeast',\n",
        "       'windDir_Categ_northwest', 'windDir_Categ_south',\n",
        "       'windDir_Categ_southeast', 'windDir_Categ_southwest',\n",
        "       'windDir_Categ_west'])"
      ],
      "metadata": {
        "id": "AjqApixgtnmn"
      },
      "execution_count": null,
      "outputs": []
    },
    {
      "cell_type": "code",
      "source": [
        "# save the results as .csv files.\n",
        "\n",
        "data_station_2019.to_csv('Mad_Station_2019.csv', index=False)\n",
        "data_station_2022.to_csv('Mad_Station_2022.csv', index=False)"
      ],
      "metadata": {
        "id": "lGKtBqP3uL_O"
      },
      "execution_count": null,
      "outputs": []
    }
  ]
}