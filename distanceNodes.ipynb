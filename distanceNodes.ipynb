{
  "nbformat": 4,
  "nbformat_minor": 0,
  "metadata": {
    "colab": {
      "provenance": [],
      "collapsed_sections": [],
      "authorship_tag": "ABX9TyPfUFs6l5AVTbZQJkjTguM+",
      "include_colab_link": true
    },
    "kernelspec": {
      "name": "python3",
      "display_name": "Python 3"
    },
    "language_info": {
      "name": "python"
    }
  },
  "cells": [
    {
      "cell_type": "markdown",
      "metadata": {
        "id": "view-in-github",
        "colab_type": "text"
      },
      "source": [
        "<a href=\"https://colab.research.google.com/github/Ditsuhi/GNN_Air_Quality/blob/main/distanceNodes.ipynb\" target=\"_parent\"><img src=\"https://colab.research.google.com/assets/colab-badge.svg\" alt=\"Open In Colab\"/></a>"
      ]
    },
    {
      "cell_type": "code",
      "execution_count": null,
      "metadata": {
        "id": "ZwMeFB0Vllyx"
      },
      "outputs": [],
      "source": [
        "# import system modules\n",
        "import arcpy\n",
        "\n",
        "# set workspace environment\n",
        "arcpy.env.workspace = r\"C:\\Users\\ditsuhi\\Desktop\\arcMap\\madrid\"  \n",
        "\n",
        "# set required parameters \n",
        "in_features = \"Air Quality Stations\"\n",
        "near_features = \"Air Quality Stations\"\n",
        "out_table = \"AirQualityStations_GenerateNearTable\"\n",
        "\n",
        "# optional parameters\n",
        "search_radius = '1500 Kilometers'\n",
        "location = 'LOCATION'\n",
        "angle = 'NO_ANGLE'\n",
        "closest = 'ALL'\n",
        "closest_count = 2000\n",
        "\n",
        "# find the distance between all air quality stations. \n",
        "# the result contains 552 rows, one edge is calculated 2 times (2*276=552)\n",
        "arcpy.analysis.GenerateNearTable(in_features, near_features, out_table, search_radius, \n",
        "                                 location, angle, closest, closest_count)"
      ]
    }
  ]
}